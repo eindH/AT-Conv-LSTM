{
 "cells": [
  {
   "cell_type": "code",
   "execution_count": 18,
   "metadata": {},
   "outputs": [],
   "source": [
    "import sys\n",
    "sys.path.insert(1, '../')\n",
    "import numpy as np\n",
    "import numpy.matlib\n",
    "from data_preparation import *\n",
    "from utils import *\n",
    "import csv\n",
    "import os\n",
    "os.environ[\"CUDA_VISIBLE_DEVICES\"] = \"-1\"\n",
    "os.environ['KERAS_BACKEND'] = 'tensorflow'\n",
    "import matplotlib.pyplot as plt\n",
    "import keras\n",
    "import tensorflow as tf\n",
    "import pandas as pd\n",
    "from keras.layers import Input,Bidirectional,merge\n",
    "from keras.layers.core import Dense, Activation, Dropout,Permute,Flatten\n",
    "from keras.layers.recurrent import LSTM\n",
    "from keras.models import *\n",
    "from keras.layers.convolutional import Conv1D,Conv2D\n",
    "from keras.layers.pooling import MaxPooling1D,AveragePooling1D\n",
    "from keras.models import load_model\n",
    "from attention import AttentionLayer\n",
    "from attention_with_context import AttentionWithContext\n",
    "from keras.layers.wrappers import TimeDistributed\n",
    "from keras.utils import CustomObjectScope\n",
    "from keras.callbacks import ModelCheckpoint\n",
    "from keras.callbacks import Callback"
   ]
  },
  {
   "cell_type": "code",
   "execution_count": 19,
   "metadata": {},
   "outputs": [
    {
     "name": "stdout",
     "output_type": "stream",
     "text": [
      "loading data...\n"
     ]
    }
   ],
   "source": [
    "print('loading data...')\n",
    "data1 = load_csv(r'temperature', 2, \"temperature1\")\n",
    "data2 = load_csv(r'temperature', 2, \"temperature2\")\n",
    "data3 = load_csv(r'pressure', 2, \"pressure1\")\n",
    "data4 = load_csv(r'pressure', 2, \"pressure2\")\n"
   ]
  },
  {
   "cell_type": "code",
   "execution_count": 20,
   "metadata": {},
   "outputs": [
    {
     "name": "stdout",
     "output_type": "stream",
     "text": [
      "(222170,)\n",
      "(222170,)\n"
     ]
    }
   ],
   "source": [
    "data1 = data1[0:222170]\n",
    "data2 = data2[0:222170]\n",
    "print(data3.shape)\n",
    "print(data4.shape)"
   ]
  },
  {
   "cell_type": "code",
   "execution_count": 21,
   "metadata": {},
   "outputs": [
    {
     "name": "stdout",
     "output_type": "stream",
     "text": [
      "(222170,)\n"
     ]
    }
   ],
   "source": [
    "day = 288\n",
    "week = 1\n",
    "seq_len = 15\n",
    "#1=5min, 3=15min, 6=30min, 12=60min\n",
    "pre_len = 12\n",
    "#data 1-7\n",
    "pre_sens_num = 1\n",
    "\n",
    "#train,test\n",
    "train_data, train_w, train_d, label, test_data, test_w, test_d, test_l, test_med, test_min\\\n",
    "\t= generate_data(data1, data2, data3, data4, seq_len, pre_len, pre_sens_num)\n",
    "\n",
    "train_data = np.reshape(train_data,(train_data.shape[0], train_data.shape[1], train_data.shape[2], 1))\n",
    "train_w = np.reshape(train_w,(train_w.shape[0], train_w.shape[1], 1))\n",
    "train_d = np.reshape(train_d,(train_d.shape[0], train_d.shape[1], 1))\n",
    "\n",
    "test_data = np.reshape(test_data,(test_data.shape[0], test_data.shape[1], test_data.shape[2], 1))\n",
    "test_d = np.reshape(test_d,(test_d.shape[0], test_d.shape[1], 1))\n",
    "test_w = np.reshape(test_w,(test_w.shape[0], test_w.shape[1], 1))\n",
    "\n",
    "print(data2.shape)"
   ]
  },
  {
   "cell_type": "code",
   "execution_count": 23,
   "metadata": {},
   "outputs": [
    {
     "name": "stdout",
     "output_type": "stream",
     "text": [
      "NAME:  attention_with_context_1\n"
     ]
    }
   ],
   "source": [
    "#load model\n",
    "with CustomObjectScope({'AttentionLayer': AttentionLayer,'AttentionWithContext':AttentionWithContext}):\n",
    "\tjson_file = open('../model/conv_lstm.json', 'r')\n",
    "\tloaded_model_json = json_file.read()\n",
    "\tjson_file.close()\n",
    "\tcnn_lstm_model = model_from_json(loaded_model_json)\n",
    "\tcnn_lstm_model.load_weights(\"../model/model_0040-0.0001.h5\", 'r')"
   ]
  },
  {
   "cell_type": "code",
   "execution_count": 24,
   "metadata": {},
   "outputs": [
    {
     "name": "stdout",
     "output_type": "stream",
     "text": [
      "predict_size: 2016\n",
      "MAE: 2.34888298182064\n",
      "MAPE: 0.008088787153194743\n",
      "RMSE: 3.0534560701847324\n"
     ]
    }
   ],
   "source": [
    "# start =time.clock()\n",
    "predicted = predict_point_by_point(cnn_lstm_model, [test_data,test_w,test_d])\n",
    "\n",
    "p_real = []\n",
    "l_real = []\n",
    "row=2016\n",
    "for i in range(row):\n",
    "    p_real.append(predicted[i] * test_med + test_min)\n",
    "    l_real.append(test_l[i] * test_med + test_min)\n",
    "p_real = np.array(p_real)\n",
    "l_real = np.array(l_real)\n",
    "\n",
    "print (\"MAE:\", MAE(p_real, l_real))\n",
    "print (\"MAPE:\", MAPE(p_real, l_real))\n",
    "print (\"RMSE:\", RMSE(p_real, l_real))\n",
    "\n",
    "#for i in range(0,len(p_real)):\n",
    "#\tprint(p_real[i])\n",
    "\n",
    "# end = time.clock()"
   ]
  },
  {
   "cell_type": "code",
   "execution_count": 41,
   "metadata": {},
   "outputs": [
    {
     "name": "stdout",
     "output_type": "stream",
     "text": [
      "(2016,)\n"
     ]
    },
    {
     "data": {
      "text/plain": [
       "[<matplotlib.lines.Line2D at 0x27531f30748>]"
      ]
     },
     "execution_count": 41,
     "metadata": {},
     "output_type": "execute_result"
    },
    {
     "data": {
      "image/png": "[encoded data removed]",
      "text/plain": [
       "<Figure size 640x480 with 1 Axes>"
      ]
     },
     "metadata": {},
     "output_type": "display_data"
    }
   ],
   "source": [
    "print(predicted.shape)\n",
    "plt.plot(predicted)\n",
    "plt.plot(test_data[:,14,3,0])"
   ]
  }
 ],
 "metadata": {
  "kernelspec": {
   "display_name": "deepfading",
   "language": "python",
   "name": "python3"
  },
  "language_info": {
   "codemirror_mode": {
    "name": "ipython",
    "version": 3
   },
   "file_extension": ".py",
   "mimetype": "text/x-python",
   "name": "python",
   "nbconvert_exporter": "python",
   "pygments_lexer": "ipython3",
   "version": "3.7.16"
  }
 },
 "nbformat": 4,
 "nbformat_minor": 2
}
